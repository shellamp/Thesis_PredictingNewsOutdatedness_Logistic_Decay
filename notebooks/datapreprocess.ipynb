{
 "cells": [
  {
   "cell_type": "markdown",
   "id": "6534fabd",
   "metadata": {},
   "source": [
    "****Data Cleaning****"
   ]
  },
  {
   "cell_type": "code",
   "execution_count": null,
   "id": "ea08ad25",
   "metadata": {},
   "outputs": [
    {
     "name": "stdout",
     "output_type": "stream",
     "text": [
      "\n",
      "📄 Summary length:\n",
      "count    29734.000000\n",
      "mean       245.091612\n",
      "std        381.425084\n",
      "min          3.000000\n",
      "25%        118.000000\n",
      "50%        169.000000\n",
      "75%        344.000000\n",
      "max      22874.000000\n",
      "Name: summary_len, dtype: float64\n"
     ]
    },
    {
     "data": {
      "image/png": "[encoded data removed]",
      "text/plain": [
       "<Figure size 1000x400 with 1 Axes>"
      ]
     },
     "metadata": {},
     "output_type": "display_data"
    },
    {
     "name": "stdout",
     "output_type": "stream",
     "text": [
      "\n",
      "✅ Filtered out summaries ≤ 25th percentile (≤ 118 chars)\n",
      "Remaining articles: 22279\n",
      "\n",
      "📁 Saved filtered dataset to:\n",
      "/Users/sheillaschool/Documents/final/Thesis_PredictingNewsOutdatedness_LogisticDecay/data/main_data/main_dataset.json\n"
     ]
    }
   ],
   "source": [
    "import json\n",
    "import pandas as pd\n",
    "import matplotlib.pyplot as plt\n",
    "\n",
    "# === Paths ===\n",
    "input_path = \"/Users/sheillaschool/Documents/final/Thesis_PredictingNewsOutdatedness_LogisticDecay/data/main_data/main_data.json\"\n",
    "output_path = \"/Users/sheillaschool/Documents/final/Thesis_PredictingNewsOutdatedness_LogisticDecay/data/main_data/main_dataset.json\"\n",
    "\n",
    "# === Load ===\n",
    "with open(input_path, \"r\", encoding=\"utf-8\") as f:\n",
    "    raw_dict = json.load(f)\n",
    "\n",
    "df = pd.DataFrame.from_dict(raw_dict, orient=\"index\").reset_index(drop=True)\n",
    "\n",
    "df[\"summary_len\"] = df[\"summary\"].astype(str).apply(len)\n",
    "\n",
    "print(\"\\n📄 Summary length:\")\n",
    "print(df[\"summary_len\"].describe())\n",
    "\n",
    "df[\"summary_len\"].plot(kind=\"hist\", bins=50, title=\"Summary Length Distribution\", figsize=(10, 4), xlim=(0, 1500))\n",
    "plt.xlabel(\"Summary Length (characters)\")\n",
    "plt.ylabel(\"Number of Articles\")\n",
    "plt.show()\n",
    "\n",
    "q25 = df[\"summary_len\"].quantile(0.25)\n",
    "df = df[df[\"summary_len\"] > q25].reset_index(drop=True)\n",
    "\n",
    "print(f\"\\n✅ Filtered out summaries ≤ 25th percentile (≤ {int(q25)} chars)\")\n",
    "print(f\"Remaining articles: {len(df)}\")\n",
    "\n",
    "df.to_json(output_path, orient=\"index\", indent=2, force_ascii=False)\n",
    "print(f\"\\n📁 Saved filtered dataset to:\\n{output_path}\")\n"
   ]
  },
  {
   "cell_type": "code",
   "execution_count": null,
   "id": "ea9ec11c",
   "metadata": {},
   "outputs": [
    {
     "name": "stdout",
     "output_type": "stream",
     "text": [
      "✅ Saved to Excel with 5172 exact and 5561 near duplicates:\n",
      "/Users/sheillaschool/Documents/final/Thesis_PredictingNewsOutdatedness_LogisticDecay/data/add/duplicate_detection.xlsx\n"
     ]
    }
   ],
   "source": [
    "import json\n",
    "import pandas as pd\n",
    "import numpy as np\n",
    "import re\n",
    "from sklearn.feature_extraction.text import TfidfVectorizer\n",
    "from sklearn.metrics.pairwise import cosine_similarity\n",
    "\n",
    "# === Load ===\n",
    "input_path = \"/Users/sheillaschool/Documents/final/Thesis_PredictingNewsOutdatedness_LogisticDecay/data/main_data/main_dataset.json\"\n",
    "with open(input_path, \"r\", encoding=\"utf-8\") as f:\n",
    "    raw_dict = json.load(f)\n",
    "\n",
    "df = pd.DataFrame.from_dict(raw_dict, orient=\"index\").reset_index(drop=True)\n",
    "\n",
    "\n",
    "def normalize_text(text):\n",
    "    text = str(text).lower().strip()\n",
    "    text = re.sub(r\"\\s+\", \" \", text)\n",
    "    return text\n",
    "\n",
    "df[\"body_norm\"] = df[\"body\"].apply(normalize_text)\n",
    "df[\"summary_norm\"] = df[\"summary\"].apply(normalize_text)\n",
    "df[\"concat_norm\"] = df[\"body_norm\"] + \" \" + df[\"summary_norm\"]\n",
    "\n",
    "\n",
    "df[\"is_exact_duplicate\"] = df.duplicated(subset=[\"body_norm\", \"summary_norm\", \"date\"], keep=False)\n",
    "exact_duplicates_df = df[df[\"is_exact_duplicate\"]].copy()\n",
    "\n",
    "tfidf = TfidfVectorizer(stop_words=\"english\", max_features=5000)\n",
    "tfidf_matrix = tfidf.fit_transform(df[\"concat_norm\"])\n",
    "\n",
    "cos_sim = cosine_similarity(tfidf_matrix)\n",
    "np.fill_diagonal(cos_sim, 0)\n",
    "\n",
    "threshold = 0.99\n",
    "near_dup_pairs = np.argwhere(cos_sim > threshold)\n",
    "\n",
    "seen = set()\n",
    "near_dup_indices = set()\n",
    "for i, j in near_dup_pairs:\n",
    "    if (i, j) not in seen and (j, i) not in seen:\n",
    "        seen.add((i, j))\n",
    "        near_dup_indices.update([i, j])\n",
    "\n",
    "df[\"is_near_duplicate\"] = df.index.isin(near_dup_indices)\n",
    "near_duplicates_df = df[df[\"is_near_duplicate\"]].copy()\n",
    "\n",
    "output_path = \"/Users/sheillaschool/Documents/final/Thesis_PredictingNewsOutdatedness_LogisticDecay/data/add/duplicate_detection.xlsx\"\n",
    "with pd.ExcelWriter(output_path, engine=\"openpyxl\") as writer:\n",
    "    exact_duplicates_df.to_excel(writer, sheet_name=\"Exact Duplicates\", index=False)\n",
    "    near_duplicates_df.to_excel(writer, sheet_name=\"Near Duplicates\", index=False)\n",
    "\n",
    "print(f\"✅ Saved to Excel with {len(exact_duplicates_df)} exact and {len(near_duplicates_df)} near duplicates:\")\n",
    "print(output_path)\n"
   ]
  },
  {
   "cell_type": "code",
   "execution_count": null,
   "id": "826a60ea",
   "metadata": {},
   "outputs": [
    {
     "name": "stdout",
     "output_type": "stream",
     "text": [
      "\n",
      "🧹 Cleaned dataset saved to:\n",
      "/Users/sheillaschool/Documents/final/Thesis_PredictingNewsOutdatedness_LogisticDecay/data/main_data/main_dataset.json\n",
      "🗑️ Removed 4075 duplicates (exact and near)\n",
      "✅ Final article count: 18204\n"
     ]
    }
   ],
   "source": [
    "import json\n",
    "import pandas as pd\n",
    "import numpy as np\n",
    "import re\n",
    "from sklearn.feature_extraction.text import TfidfVectorizer\n",
    "from sklearn.metrics.pairwise import cosine_similarity\n",
    "\n",
    "\n",
    "input_path = \"/Users/sheillaschool/Documents/final/Thesis_PredictingNewsOutdatedness_LogisticDecay/data/main_data/main_dataset.json\"\n",
    "output_path = \"/Users/sheillaschool/Documents/final/Thesis_PredictingNewsOutdatedness_LogisticDecay/data/main_data/main_dataset.json\"\n",
    "\n",
    "with open(input_path, \"r\", encoding=\"utf-8\") as f:\n",
    "    raw_dict = json.load(f)\n",
    "\n",
    "df = pd.DataFrame.from_dict(raw_dict, orient=\"index\").reset_index(drop=True)\n",
    "\n",
    "\n",
    "def normalize_text(text):\n",
    "    text = str(text).lower().strip()\n",
    "    text = re.sub(r\"\\s+\", \" \", text)\n",
    "    return text\n",
    "\n",
    "df[\"body_norm\"] = df[\"body\"].apply(normalize_text)\n",
    "df[\"summary_norm\"] = df[\"summary\"].apply(normalize_text)\n",
    "df[\"concat_norm\"] = df[\"body_norm\"] + \" \" + df[\"summary_norm\"]\n",
    "\n",
    "\n",
    "df[\"is_exact_duplicate\"] = df.duplicated(subset=[\"body_norm\", \"summary_norm\", \"date\"], keep=False)\n",
    "df[\"is_exact_duplicate_except_first\"] = df.duplicated(subset=[\"body_norm\", \"summary_norm\", \"date\"], keep=\"first\")\n",
    "\n",
    "\n",
    "tfidf = TfidfVectorizer(stop_words=\"english\", max_features=5000)\n",
    "tfidf_matrix = tfidf.fit_transform(df[\"concat_norm\"])\n",
    "\n",
    "cos_sim = cosine_similarity(tfidf_matrix)\n",
    "np.fill_diagonal(cos_sim, 0)\n",
    "\n",
    "threshold = 0.99\n",
    "near_dup_pairs = np.argwhere(cos_sim > threshold)\n",
    "\n",
    "seen = set()\n",
    "near_dup_indices = set()\n",
    "for i, j in near_dup_pairs:\n",
    "    if (i, j) not in seen and (j, i) not in seen:\n",
    "        seen.add((i, j))\n",
    "        near_dup_indices.update([i, j])\n",
    "\n",
    "\n",
    "near_dup_mask = df.index.isin(list(near_dup_indices))\n",
    "first_of_near_dup = df[near_dup_mask].drop_duplicates(subset=\"concat_norm\", keep=\"first\").index\n",
    "remove_near_dup_idx = set(near_dup_indices) - set(first_of_near_dup)\n",
    "\n",
    "\n",
    "drop_idx = set(df[df[\"is_exact_duplicate_except_first\"]].index).union(remove_near_dup_idx)\n",
    "df_cleaned = df.drop(index=drop_idx).reset_index(drop=True)\n",
    "\n",
    "\n",
    "df_cleaned.to_json(output_path, orient=\"index\", indent=2, force_ascii=False)\n",
    "\n",
    "print(f\"\\n🧹 Cleaned dataset saved to:\\n{output_path}\")\n",
    "print(f\"🗑️ Removed {len(drop_idx)} duplicates (exact and near)\")\n",
    "print(f\"✅ Final article count: {len(df_cleaned)}\")\n"
   ]
  },
  {
   "cell_type": "code",
   "execution_count": null,
   "id": "8320feb6",
   "metadata": {},
   "outputs": [
    {
     "name": "stdout",
     "output_type": "stream",
     "text": [
      "✅ English-only dataset saved to:\n",
      "/Users/sheillaschool/Documents/final/Thesis_PredictingNewsOutdatedness_LogisticDecay/data/main_data/main_dataset.json\n",
      "🗑️ Non-English articles (982) saved to:\n",
      "/Users/sheillaschool/Documents/final/Thesis_PredictingNewsOutdatedness_LogisticDecay/data/add/non_english_removed.xlsx\n"
     ]
    }
   ],
   "source": [
    "import json\n",
    "import pandas as pd\n",
    "from langdetect import detect, DetectorFactory\n",
    "from langdetect.lang_detect_exception import LangDetectException\n",
    "\n",
    "input_path = \"/Users/sheillaschool/Documents/final/Thesis_PredictingNewsOutdatedness_LogisticDecay/data/main_data/main_dataset.json\"\n",
    "output_json_path = \"/Users/sheillaschool/Documents/final/Thesis_PredictingNewsOutdatedness_LogisticDecay/data/main_data/main_dataset.json\"\n",
    "removed_excel_path = \"/Users/sheillaschool/Documents/final/Thesis_PredictingNewsOutdatedness_LogisticDecay/data/add/non_english_removed.xlsx\"\n",
    "\n",
    "with open(input_path, \"r\", encoding=\"utf-8\") as f:\n",
    "    raw_dict = json.load(f)\n",
    "\n",
    "df = pd.DataFrame.from_dict(raw_dict, orient=\"index\").reset_index(drop=True)\n",
    "\n",
    "DetectorFactory.seed = 0\n",
    "\n",
    "def detect_lang(text):\n",
    "    try:\n",
    "        return detect(str(text))\n",
    "    except LangDetectException:\n",
    "        return \"unknown\"\n",
    "\n",
    "lang = df[\"body\"].apply(detect_lang)\n",
    "\n",
    "df_en = df[lang == \"en\"].copy()\n",
    "df_non_en = df[lang != \"en\"].copy()\n",
    "\n",
    "df_en.to_json(output_json_path, orient=\"index\", indent=2, force_ascii=False)\n",
    "\n",
    "df_non_en.to_excel(removed_excel_path, index=False)\n",
    "\n",
    "print(f\"✅ English-only dataset saved to:\\n{output_json_path}\")\n",
    "print(f\"🗑️ Non-English articles ({len(df_non_en)}) saved to:\\n{removed_excel_path}\")\n"
   ]
  },
  {
   "cell_type": "code",
   "execution_count": null,
   "id": "b20c7051",
   "metadata": {},
   "outputs": [
    {
     "name": "stdout",
     "output_type": "stream",
     "text": [
      "✅ Cleaned and saved to:\n",
      "/Users/sheillaschool/Documents/final/Thesis_PredictingNewsOutdatedness_LogisticDecay/data/main_data/main_dataset.json\n"
     ]
    }
   ],
   "source": [
    "import re\n",
    "import pandas as pd\n",
    "\n",
    "input_path = \"/Users/sheillaschool/Documents/final/Thesis_PredictingNewsOutdatedness_LogisticDecay/data/main_data/main_dataset.json\"\n",
    "output_path = \"/Users/sheillaschool/Documents/final/Thesis_PredictingNewsOutdatedness_LogisticDecay/data/main_data/main_dataset.json\"\n",
    "\n",
    "df = pd.read_json(input_path, orient=\"index\")\n",
    "df.reset_index(drop=True, inplace=True)\n",
    "\n",
    "def remove_image_tag(text):\n",
    "    return re.sub(r\"\\[Image \\d+ of \\d+\\]\", \"\", str(text), flags=re.IGNORECASE).strip()\n",
    "\n",
    "def remove_location_prefix(text):\n",
    "    return re.sub(r\"^[A-Z\\s\\-]+,\\s?[A-Z][A-Za-z\\.]*\\s?\\((.*?)\\)?\\s?[–-]\\s?|^[A-Z\\s\\-]+,\\s?[A-Z][A-Za-z\\.]*\\s?[–-]\\s?\", \"\", str(text)).strip()\n",
    "\n",
    "df[\"title\"] = df[\"title\"].apply(remove_image_tag)\n",
    "df[\"summary\"] = df[\"summary\"].apply(remove_image_tag).apply(remove_location_prefix)\n",
    "df[\"body\"] = df[\"body\"].apply(remove_image_tag)\n",
    "\n",
    "df.to_json(output_path, orient=\"index\", indent=2, force_ascii=False)\n",
    "\n",
    "print(f\"✅ Cleaned and saved to:\\n{output_path}\")\n"
   ]
  },
  {
   "cell_type": "code",
   "execution_count": 5,
   "id": "08dd8158",
   "metadata": {},
   "outputs": [
    {
     "name": "stdout",
     "output_type": "stream",
     "text": [
      "✅ Removed HTML/unicode noise and saved to:\n",
      "/Users/sheillaschool/Documents/final/Thesis_PredictingNewsOutdatedness_LogisticDecay/data/main_data/main_dataset.json\n"
     ]
    }
   ],
   "source": [
    "import re\n",
    "import pandas as pd\n",
    "\n",
    "input_path = \"/Users/sheillaschool/Documents/final/Thesis_PredictingNewsOutdatedness_LogisticDecay/data/main_data/main_dataset.json\"\n",
    "output_path = \"/Users/sheillaschool/Documents/final/Thesis_PredictingNewsOutdatedness_LogisticDecay/data/main_data/main_dataset.json\"\n",
    "\n",
    "df = pd.read_json(input_path, orient=\"index\")\n",
    "df.reset_index(drop=True, inplace=True)\n",
    "\n",
    "def clean_html_unicode(text):\n",
    "    text = str(text)\n",
    "    text = re.sub(r\"<[^>]+>\", \" \", text)  # remove HTML tags\n",
    "    text = re.sub(r\"&nbsp;|&amp;|&quot;|&#\\d+;|8217;\", \"'\", text)  # unicode replacements\n",
    "    text = re.sub(r\"[\\n\\r\\t]+\", \" \", text)  # newlines/tabs\n",
    "    text = re.sub(r\"\\s+\", \" \", text).strip()\n",
    "    return text\n",
    "\n",
    "df[\"title\"] = df[\"title\"].apply(clean_html_unicode)\n",
    "df[\"summary\"] = df[\"summary\"].apply(clean_html_unicode)\n",
    "df[\"body\"] = df[\"body\"].apply(clean_html_unicode)\n",
    "\n",
    "df.to_json(output_path, orient=\"index\", indent=2, force_ascii=False)\n",
    "\n",
    "print(f\"✅ Removed HTML/unicode noise and saved to:\\n{output_path}\")\n"
   ]
  },
  {
   "cell_type": "markdown",
   "id": "fe14c581",
   "metadata": {},
   "source": [
    "**Data Enrichment**"
   ]
  },
  {
   "cell_type": "code",
   "execution_count": 6,
   "id": "b384e43c",
   "metadata": {},
   "outputs": [
    {
     "name": "stdout",
     "output_type": "stream",
     "text": [
      "✅ Saved enriched dataset with normalized title/summary to:\n",
      "/Users/sheillaschool/Documents/final/Thesis_PredictingNewsOutdatedness_LogisticDecay/data/main_data/main_dataset.json\n"
     ]
    }
   ],
   "source": [
    "import json\n",
    "import pandas as pd\n",
    "import re\n",
    "\n",
    "input_path = \"/Users/sheillaschool/Documents/final/Thesis_PredictingNewsOutdatedness_LogisticDecay/data/main_data/main_dataset.json\"\n",
    "output_path = \"/Users/sheillaschool/Documents/final/Thesis_PredictingNewsOutdatedness_LogisticDecay/data/main_data/main_dataset.json\"\n",
    "\n",
    "with open(input_path, \"r\", encoding=\"utf-8\") as f:\n",
    "    raw_dict = json.load(f)\n",
    "\n",
    "df = pd.DataFrame.from_dict(raw_dict, orient=\"index\").reset_index(drop=True)\n",
    "\n",
    "def minimal_normalize(text):\n",
    "    text = str(text)\n",
    "    text = re.sub(r\"[^\\w\\s.,!?;:'\\\"()\\-–—]\", \"\", text)\n",
    "    text = re.sub(r\"\\s+\", \" \", text).strip()\n",
    "    return text\n",
    "\n",
    "df[\"title_normalized\"] = df[\"title\"].apply(minimal_normalize)\n",
    "df[\"summary_normalized\"] = df[\"summary\"].apply(minimal_normalize)\n",
    "\n",
    "df.to_json(output_path, orient=\"index\", indent=2, force_ascii=False)\n",
    "\n",
    "print(f\"✅ Saved enriched dataset with normalized title/summary to:\\n{output_path}\")\n"
   ]
  },
  {
   "cell_type": "code",
   "execution_count": 5,
   "id": "e26de1bc",
   "metadata": {},
   "outputs": [
    {
     "name": "stdout",
     "output_type": "stream",
     "text": [
      "📌 Top Reference Dates:\n",
      "  reference_date  bin_0  bin_10  bin_30  bin_60  bin_90\n",
      "0     2024-11-14    586     182       0       0    7313\n",
      "1     2025-02-09    580     941    1501    1555    7900\n",
      "2     2025-02-12    575     969    1489    1525    8081\n",
      "3     2025-02-10    573     951    1511    1533    7956\n",
      "4     2024-12-11    571     984     587       0    7313\n"
     ]
    }
   ],
   "source": [
    "import json\n",
    "import pandas as pd\n",
    "from datetime import datetime\n",
    "\n",
    "\n",
    "FILE_PATH = \"/Users/sheillaschool/Documents/final/Thesis_PredictingNewsOutdatedness_LogisticDecay/data/main_data/main_dataset.json\"\n",
    "DATE_FORMAT = \"%Y-%m-%d\"\n",
    "\n",
    "\n",
    "with open(FILE_PATH, \"r\", encoding=\"utf-8\") as f:\n",
    "    data = json.load(f)\n",
    "\n",
    "df = pd.DataFrame.from_dict(data, orient=\"index\")\n",
    "df[\"date\"] = pd.to_datetime(df[\"date\"], errors=\"coerce\")\n",
    "df = df.dropna(subset=[\"date\"])\n",
    "\n",
    "\n",
    "search_dates = pd.date_range(df[\"date\"].min(), df[\"date\"].max())\n",
    "\n",
    "\n",
    "results = []\n",
    "\n",
    "for ref_date in search_dates:\n",
    "    df[\"t_days\"] = (ref_date - df[\"date\"]).dt.days\n",
    "\n",
    "    bin_0 = df[(df[\"t_days\"] >= 0) & (df[\"t_days\"] < 10)].shape[0]\n",
    "    bin_10 = df[(df[\"t_days\"] >= 10) & (df[\"t_days\"] < 30)].shape[0]\n",
    "    bin_30 = df[(df[\"t_days\"] >= 30) & (df[\"t_days\"] < 60)].shape[0]\n",
    "    bin_60 = df[(df[\"t_days\"] >= 60) & (df[\"t_days\"] < 90)].shape[0]\n",
    "    bin_90 = df[df[\"t_days\"] >= 90].shape[0]\n",
    "\n",
    "    results.append((ref_date, bin_0, bin_10, bin_30, bin_60, bin_90))\n",
    "\n",
    "\n",
    "results_df = pd.DataFrame(results, columns=[\n",
    "    \"reference_date\", \"bin_0\", \"bin_10\", \"bin_30\", \"bin_60\", \"bin_90\"\n",
    "])\n",
    "\n",
    "\n",
    "results_df = results_df.sort_values(by=[\"bin_0\", \"bin_10\"], ascending=False).reset_index(drop=True)\n",
    "\n",
    "\n",
    "print(\"📌 Top Reference Dates:\")\n",
    "print(results_df.head())\n",
    "\n",
    "\n"
   ]
  },
  {
   "cell_type": "code",
   "execution_count": 7,
   "id": "bf776b8d",
   "metadata": {},
   "outputs": [
    {
     "name": "stdout",
     "output_type": "stream",
     "text": [
      "✅ Saved dataset with 't' and 't_bin' to:\n",
      "/Users/sheillaschool/Documents/final/Thesis_PredictingNewsOutdatedness_LogisticDecay/data/main_data/main_dataset.json\n",
      "🗑️ Articles after 2025-02-09 were removed. Remaining: 12477\n"
     ]
    }
   ],
   "source": [
    "import pandas as pd\n",
    "\n",
    "input_path = \"/Users/sheillaschool/Documents/final/Thesis_PredictingNewsOutdatedness_LogisticDecay/data/main_data/main_dataset.json\"\n",
    "output_path = \"/Users/sheillaschool/Documents/final/Thesis_PredictingNewsOutdatedness_LogisticDecay/data/main_data/main_dataset.json\"\n",
    "\n",
    "df = pd.read_json(input_path, orient=\"index\")\n",
    "df.reset_index(drop=True, inplace=True)\n",
    "\n",
    "ref_date = pd.to_datetime(\"2025-02-09\")\n",
    "df[\"date\"] = pd.to_datetime(df[\"date\"], errors=\"coerce\")\n",
    "\n",
    "df = df[df[\"date\"] <= ref_date].copy()\n",
    "df[\"t\"] = (ref_date - df[\"date\"]).dt.days\n",
    "\n",
    "def assign_bin(t):\n",
    "    if t < 10:\n",
    "        return \"fresh\"\n",
    "    elif t < 30:\n",
    "        return \"recent\"\n",
    "    elif t < 60:\n",
    "        return \"middle_age\"\n",
    "    elif t < 90:\n",
    "        return \"old\"\n",
    "    else:\n",
    "        return \"very_old\"\n",
    "\n",
    "df[\"t_bin\"] = df[\"t\"].apply(assign_bin)\n",
    "df[\"date\"] = df[\"date\"].dt.strftime(\"%Y-%m-%d\")\n",
    "\n",
    "df.to_json(output_path, orient=\"index\", indent=2, force_ascii=False)\n",
    "\n",
    "print(f\"✅ Saved dataset with 't' and 't_bin' to:\\n{output_path}\")\n",
    "print(f\"🗑️ Articles after 2025-02-09 were removed. Remaining: {len(df)}\")\n"
   ]
  }
 ],
 "metadata": {
  "kernelspec": {
   "display_name": "Python 3",
   "language": "python",
   "name": "python3"
  },
  "language_info": {
   "codemirror_mode": {
    "name": "ipython",
    "version": 3
   },
   "file_extension": ".py",
   "mimetype": "text/x-python",
   "name": "python",
   "nbconvert_exporter": "python",
   "pygments_lexer": "ipython3",
   "version": "3.12.0"
  }
 },
 "nbformat": 4,
 "nbformat_minor": 5
}
