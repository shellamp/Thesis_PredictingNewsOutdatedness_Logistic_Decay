{
 "cells": [
  {
   "cell_type": "code",
   "execution_count": 1,
   "id": "c3dd85e2",
   "metadata": {},
   "outputs": [
    {
     "name": "stdout",
     "output_type": "stream",
     "text": [
      "✅ Saved 120 articles to /Users/sheillaschool/Documents/final/Thesis_PredictingNewsOutdatedness_Logistic_Decay/model/labelling/data/manual/manual_review_sample.json\n"
     ]
    }
   ],
   "source": [
    "import json\n",
    "import random\n",
    "from pathlib import Path\n",
    "\n",
    "input_path = Path(\"/Users/sheillaschool/Documents/final/Thesis_PredictingNewsOutdatedness_Logistic_Decay/model/labelling/data/manual/rulebased_manual.json\")\n",
    "output_path = input_path.parent / \"manual_review_sample.json\"\n",
    "\n",
    "with open(input_path, \"r\") as f:\n",
    "    data = json.load(f)\n",
    "\n",
    "manual_label_1 = []\n",
    "manual_label_0 = []\n",
    "\n",
    "for key, article in data.items():\n",
    "    if article.get(\"label_comment\") == \"manual\":\n",
    "        label = article.get(\"label\")\n",
    "        if label == 1:\n",
    "            manual_label_1.append((key, article))\n",
    "        elif label == 0:\n",
    "            manual_label_0.append((key, article))\n",
    "\n",
    "random.seed(42)\n",
    "sample_1 = random.sample(manual_label_1, min(60, len(manual_label_1)))\n",
    "sample_0 = random.sample(manual_label_0, min(60, len(manual_label_0)))\n",
    "\n",
    "combined = sample_1 + sample_0\n",
    "random.shuffle(combined)\n",
    "\n",
    "final_sample = {}\n",
    "for key, article in combined:\n",
    "    article_copy = article.copy()\n",
    "    article_copy[\"reviewed_label\"] = None\n",
    "    final_sample[key] = article_copy\n",
    "\n",
    "\n",
    "with open(output_path, \"w\") as f:\n",
    "    json.dump(final_sample, f, indent=2)\n",
    "\n",
    "print(f\"✅ Saved {len(final_sample)} articles to {output_path}\")\n"
   ]
  },
  {
   "cell_type": "code",
   "execution_count": 2,
   "id": "db11c8d2",
   "metadata": {},
   "outputs": [
    {
     "name": "stdout",
     "output_type": "stream",
     "text": [
      "🔍 Inter-Annotator Agreement Results:\n",
      "🟦 Cohen's Kappa: 0.700\n",
      "🟩 Simple Agreement: 0.850\n",
      "🔻 Total samples compared: 120\n",
      "❗ Disagreements: 18\n",
      "\n",
      "Sample Disagreements:\n",
      "1. ID: 916, Manual: 1, Reviewer: 0, Title: NFL scraps 'End Racism' message from Super Bowl LIX end zones\n",
      "2. ID: 10237, Manual: 1, Reviewer: 0, Title: Pharrell Williams and Michel Gondry Scrap Universal Musical ‘Golden’ in Post-Production\n",
      "3. ID: 5824, Manual: 0, Reviewer: 1, Title: Man who exploded Tesla Cybertruck outside Trump hotel in Las Vegas used AI, Police says – Ya Libnan\n",
      "4. ID: 10496, Manual: 0, Reviewer: 1, Title: Costa Rica’s Gordo Navideño Is A Christmas Tradition\n",
      "5. ID: 5495, Manual: 1, Reviewer: 0, Title: Mavericks vs. Lakers tickets: Cheapest prices, best seats to see Luka Doncic return to Dallas vs. Anthony Davis\n"
     ]
    }
   ],
   "source": [
    "import json\n",
    "from sklearn.metrics import cohen_kappa_score, accuracy_score\n",
    "\n",
    "# Path to your labeled JSON file\n",
    "json_path = \"/Users/sheillaschool/Documents/final/Thesis_PredictingNewsOutdatedness_Logistic_Decay/model/labelling/data/manual/manual_review_sample_filled.json\"  # 🔁 Change this to your actual path\n",
    "\n",
    "# Load the JSON data\n",
    "with open(json_path, \"r\") as f:\n",
    "    data = json.load(f)\n",
    "\n",
    "# Collect labels where both annotators provided values\n",
    "manual_labels = []\n",
    "reviewed_labels = []\n",
    "disagreements = []\n",
    "\n",
    "for article_id, article in data.items():\n",
    "    label = article.get(\"label\")\n",
    "    reviewed_label = article.get(\"reviewed_label\")\n",
    "\n",
    "    # Only compare when both labels are present\n",
    "    if label is not None and reviewed_label is not None:\n",
    "        manual_labels.append(label)\n",
    "        reviewed_labels.append(reviewed_label)\n",
    "        if label != reviewed_label:\n",
    "            disagreements.append((article_id, label, reviewed_label, article.get(\"title\")))\n",
    "\n",
    "# Calculate agreement metrics\n",
    "kappa = cohen_kappa_score(manual_labels, reviewed_labels)\n",
    "simple_agreement = accuracy_score(manual_labels, reviewed_labels)\n",
    "\n",
    "print(f\"🔍 Inter-Annotator Agreement Results:\")\n",
    "print(f\"🟦 Cohen's Kappa: {kappa:.3f}\")\n",
    "print(f\"🟩 Simple Agreement: {simple_agreement:.3f}\")\n",
    "print(f\"🔻 Total samples compared: {len(manual_labels)}\")\n",
    "print(f\"❗ Disagreements: {len(disagreements)}\")\n",
    "\n",
    "# Print sample disagreements\n",
    "if disagreements:\n",
    "    print(\"\\nSample Disagreements:\")\n",
    "    for i, (article_id, label1, label2, title) in enumerate(disagreements[:5]):\n",
    "        print(f\"{i+1}. ID: {article_id}, Manual: {label1}, Reviewer: {label2}, Title: {title}\")\n"
   ]
  }
 ],
 "metadata": {
  "kernelspec": {
   "display_name": "Python 3",
   "language": "python",
   "name": "python3"
  },
  "language_info": {
   "codemirror_mode": {
    "name": "ipython",
    "version": 3
   },
   "file_extension": ".py",
   "mimetype": "text/x-python",
   "name": "python",
   "nbconvert_exporter": "python",
   "pygments_lexer": "ipython3",
   "version": "3.12.0"
  }
 },
 "nbformat": 4,
 "nbformat_minor": 5
}
