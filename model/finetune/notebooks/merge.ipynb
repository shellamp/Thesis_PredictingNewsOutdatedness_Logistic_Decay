{
 "cells": [
  {
   "cell_type": "code",
   "execution_count": 3,
   "id": "340ce123",
   "metadata": {},
   "outputs": [
    {
     "name": "stdout",
     "output_type": "stream",
     "text": [
      "✅ Merged dataset saved to: /Users/sheillaschool/Documents/final/Thesis_PredictingNewsOutdatedness_Logistic_Decay/model/finetune/data/predict_ready.json\n",
      "📦 Total articles after deduplication: 11359\n"
     ]
    }
   ],
   "source": [
    "import json\n",
    "from pathlib import Path\n",
    "\n",
    "# ✅ Input paths\n",
    "path_a = Path(\"/Users/sheillaschool/Documents/final/Thesis_PredictingNewsOutdatedness_Logistic_Decay/model/finetune/data/val_balanced.json\")\n",
    "path_b = Path(\"/Users/sheillaschool/Documents/final/Thesis_PredictingNewsOutdatedness_Logistic_Decay/model/finetune/data/train_remainder.json\")\n",
    "path_c = Path(\"/Users/sheillaschool/Documents/final/Thesis_PredictingNewsOutdatedness_Logistic_Decay/model/finetune/data/remaining_majority_not_in_seed.json\")\n",
    "path_d = Path(\"/Users/sheillaschool/Documents/final/Thesis_PredictingNewsOutdatedness_Logistic_Decay/data/main_data/probability/unlabeled_probability.json\")\n",
    "\n",
    "# ✅ Output path\n",
    "merged_output = Path(\"/Users/sheillaschool/Documents/final/Thesis_PredictingNewsOutdatedness_Logistic_Decay/model/finetune/data/predict_ready.json\")\n",
    "\n",
    "# ✅ Load JSON files\n",
    "def load_json_dict(path):\n",
    "    with open(path, 'r') as f:\n",
    "        return json.load(f)\n",
    "\n",
    "data_a = load_json_dict(path_a)\n",
    "data_b = load_json_dict(path_b)\n",
    "data_c = load_json_dict(path_c)\n",
    "data_d = load_json_dict(path_d)\n",
    "\n",
    "# ✅ Unified article schema (all fields must exist)\n",
    "required_fields = [\n",
    "    \"source\", \"url\", \"date\", \"title\", \"body\", \"summary\", \"category\",\n",
    "    \"title_normalized\", \"summary_normalized\", \"t\", \"t_bin\",\n",
    "    \"label\", \"label_comment\"\n",
    "]\n",
    "\n",
    "# ✅ Initialize merged output\n",
    "merged_data = {}\n",
    "seen_urls = set()\n",
    "\n",
    "def normalize_article(article):\n",
    "    \"\"\"Ensure all required fields exist; add empty string or None if missing.\"\"\"\n",
    "    for field in required_fields:\n",
    "        if field not in article:\n",
    "            article[field] = \"\" if field != \"t\" else None\n",
    "    return article\n",
    "\n",
    "def add_unique_articles(source_data):\n",
    "    for article_id, article in source_data.items():\n",
    "        url = article.get(\"url\")\n",
    "        if url and url not in seen_urls:\n",
    "            seen_urls.add(url)\n",
    "            merged_data[article_id] = normalize_article(article)\n",
    "\n",
    "# ✅ Merge all sources\n",
    "add_unique_articles(data_a)\n",
    "add_unique_articles(data_b)\n",
    "add_unique_articles(data_c)\n",
    "add_unique_articles(data_d)\n",
    "\n",
    "# ✅ Save merged result\n",
    "with open(merged_output, \"w\") as f:\n",
    "    json.dump(merged_data, f, indent=2)\n",
    "\n",
    "print(f\"✅ Merged dataset saved to: {merged_output}\")\n",
    "print(f\"📦 Total articles after deduplication: {len(merged_data)}\")\n"
   ]
  }
 ],
 "metadata": {
  "kernelspec": {
   "display_name": "Python 3",
   "language": "python",
   "name": "python3"
  },
  "language_info": {
   "codemirror_mode": {
    "name": "ipython",
    "version": 3
   },
   "file_extension": ".py",
   "mimetype": "text/x-python",
   "name": "python",
   "nbconvert_exporter": "python",
   "pygments_lexer": "ipython3",
   "version": "3.12.0"
  }
 },
 "nbformat": 4,
 "nbformat_minor": 5
}
